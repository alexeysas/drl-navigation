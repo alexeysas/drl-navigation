{
 "cells": [
  {
   "cell_type": "markdown",
   "metadata": {},
   "source": [
    "# Navigation\n",
    "\n",
    "---\n",
    "\n",
    "In this notebook, you will learn how to use the Unity ML-Agents environment for the first project of the [Deep Reinforcement Learning Nanodegree](https://www.udacity.com/course/deep-reinforcement-learning-nanodegree--nd893).\n",
    "\n",
    "## 1. Explore the Environment\n",
    "\n",
    "First part of the notebook introduces Unity Banana enviroment and lets you explore its state and actions spaces\n",
    "\n",
    "\n",
    "### 1.1. Start the Environment\n",
    "\n",
    "We begin by importing some necessary packages.  If the code cell below returns an error, please revisit the project instructions to double-check that you have installed [Unity ML-Agents](https://github.com/Unity-Technologies/ml-agents/blob/master/docs/Installation.md) and [NumPy](http://www.numpy.org/)."
   ]
  },
  {
   "cell_type": "code",
   "execution_count": 1,
   "metadata": {},
   "outputs": [],
   "source": [
    "from unityagents import UnityEnvironment\n",
    "import numpy as np\n",
    "\n",
    "import matplotlib.pyplot as plt\n",
    "%matplotlib inline"
   ]
  },
  {
   "cell_type": "markdown",
   "metadata": {},
   "source": [
    "Next, we will start the environment!  **_Before running the code cell below_**, change the `file_name` parameter to match the location of the Unity environment that you downloaded.\n",
    "\n",
    "- **Mac**: `\"path/to/Banana.app\"`\n",
    "- **Windows** (x86): `\"path/to/Banana_Windows_x86/Banana.exe\"`\n",
    "- **Windows** (x86_64): `\"path/to/Banana_Windows_x86_64/Banana.exe\"`\n",
    "- **Linux** (x86): `\"path/to/Banana_Linux/Banana.x86\"`\n",
    "- **Linux** (x86_64): `\"path/to/Banana_Linux/Banana.x86_64\"`\n",
    "- **Linux** (x86, headless): `\"path/to/Banana_Linux_NoVis/Banana.x86\"`\n",
    "- **Linux** (x86_64, headless): `\"path/to/Banana_Linux_NoVis/Banana.x86_64\"`\n",
    "\n",
    "For instance, if you are using a Mac, then you downloaded `Banana.app`.  If this file is in the same folder as the notebook, then the line below should appear as follows:\n",
    "```\n",
    "env = UnityEnvironment(file_name=\"Banana.app\")\n",
    "```"
   ]
  },
  {
   "cell_type": "markdown",
   "metadata": {},
   "source": [
    "### 1.2. Create Unity environment wrapper\n",
    "\n",
    "We need to create Environment wrapper which allows our agent to communicate with Unity environment in an easy way. Just simplifying interface."
   ]
  },
  {
   "cell_type": "code",
   "execution_count": 2,
   "metadata": {},
   "outputs": [],
   "source": [
    "class EnvironmentWrapper():\n",
    "    def __init__(self, file_name):\n",
    "        self.env = UnityEnvironment(file_name=file_name, worker_id=1)\n",
    "        self.brain_name = self.env.brain_names[0]\n",
    "        self.brain = self.env.brains[self.brain_name]\n",
    "        self.action_size = self.brain.vector_action_space_size\n",
    "        \n",
    "        self.env_info = self.env.reset(train_mode=False)[self.brain_name]\n",
    "        state = self.env_info.vector_observations[0]\n",
    "        self.state_size = len(state)\n",
    "        \n",
    "    def reset(self, train_mode=False):\n",
    "        self.env_info = self.env.reset(train_mode=train_mode)[self.brain_name]\n",
    "        state = self.env_info.vector_observations[0]\n",
    "        \n",
    "        return state\n",
    "        \n",
    "    def close(self):\n",
    "        self.env.close()\n",
    "        \n",
    "    def step(self, action):\n",
    "        action = action.astype(np.int32)\n",
    "        self.env_info = self.env.step(action)[self.brain_name]       \n",
    "        next_state = self.env_info.vector_observations[0]   \n",
    "        reward = self.env_info.rewards[0]                   \n",
    "        done = self.env_info.local_done[0]                \n",
    "        return next_state, reward, done"
   ]
  },
  {
   "cell_type": "code",
   "execution_count": 3,
   "metadata": {},
   "outputs": [
    {
     "name": "stderr",
     "output_type": "stream",
     "text": [
      "INFO:unityagents:\n",
      "'Academy' started successfully!\n",
      "Unity Academy name: Academy\n",
      "        Number of Brains: 1\n",
      "        Number of External Brains : 1\n",
      "        Lesson number : 0\n",
      "        Reset Parameters :\n",
      "\t\t\n",
      "Unity brain name: BananaBrain\n",
      "        Number of Visual Observations (per agent): 0\n",
      "        Vector Observation space type: continuous\n",
      "        Vector Observation space size (per agent): 37\n",
      "        Number of stacked Vector Observation: 1\n",
      "        Vector Action space type: discrete\n",
      "        Vector Action space size (per agent): 4\n",
      "        Vector Action descriptions: , , , \n"
     ]
    }
   ],
   "source": [
    "env = EnvironmentWrapper(file_name=\"Banana_Windows_x86_64/Banana.exe\")"
   ]
  },
  {
   "cell_type": "markdown",
   "metadata": {},
   "source": [
    "Environments contain **_brains_** which are responsible for deciding the actions of their associated agents. Here we check for the first brain available, and set it as the default brain we will be controlling from Python."
   ]
  },
  {
   "cell_type": "code",
   "execution_count": 5,
   "metadata": {},
   "outputs": [],
   "source": [
    "# get the default brain\n",
    "brain_name = env.env.brain_names[0]\n",
    "brain = env.env.brains[brain_name]"
   ]
  },
  {
   "cell_type": "markdown",
   "metadata": {},
   "source": [
    "### 1.2. Examine the State and Action Spaces\n",
    "\n",
    "The simulation contains a single agent that navigates a large environment.  At each time step, it has four actions at its disposal:\n",
    "- `0` - walk forward \n",
    "- `1` - walk backward\n",
    "- `2` - turn left\n",
    "- `3` - turn right\n",
    "\n",
    "The state space has `37` dimensions and contains the agent's velocity, along with ray-based perception of objects around agent's forward direction.  A reward of `+1` is provided for collecting a yellow banana, and a reward of `-1` is provided for collecting a blue banana. \n",
    "\n",
    "Run the code cell below to print some information about the environment."
   ]
  },
  {
   "cell_type": "code",
   "execution_count": 6,
   "metadata": {},
   "outputs": [
    {
     "name": "stdout",
     "output_type": "stream",
     "text": [
      "Number of agents: 1\n",
      "Number of actions: 4\n",
      "States look like: [0.         1.         0.         0.         0.16895212 0.\n",
      " 1.         0.         0.         0.20073597 1.         0.\n",
      " 0.         0.         0.12865657 0.         1.         0.\n",
      " 0.         0.14938059 1.         0.         0.         0.\n",
      " 0.58185619 0.         1.         0.         0.         0.16089135\n",
      " 0.         1.         0.         0.         0.31775284 0.\n",
      " 0.        ]\n",
      "States have length: 37\n"
     ]
    }
   ],
   "source": [
    "# reset the environment\n",
    "env_info = env.env.reset(train_mode=True)[brain_name]\n",
    "\n",
    "# number of agents in the environment\n",
    "print('Number of agents:', len(env_info.agents))\n",
    "\n",
    "# number of actions\n",
    "action_size = brain.vector_action_space_size\n",
    "print('Number of actions:', action_size)\n",
    "\n",
    "# examine the state space \n",
    "state = env_info.vector_observations[0]\n",
    "print('States look like:', state)\n",
    "state_size = len(state)\n",
    "print('States have length:', state_size)"
   ]
  },
  {
   "cell_type": "markdown",
   "metadata": {},
   "source": [
    "### 1.3. Take Random Actions in the Environment\n",
    "\n",
    "In the next code cell, you will learn how to use the Python API to control the agent and receive feedback from the environment.\n",
    "\n",
    "Once this cell is executed, you will watch the agent's performance, if it selects an action (uniformly) at random with each time step.  A window should pop up that allows you to observe the agent, as it moves through the environment.  \n",
    "\n",
    "Of course, as part of the project, you'll have to change the code so that the agent is able to use its experience to gradually choose better actions when interacting with the environment!"
   ]
  },
  {
   "cell_type": "code",
   "execution_count": 7,
   "metadata": {},
   "outputs": [
    {
     "name": "stdout",
     "output_type": "stream",
     "text": [
      "Score: 1.0\n"
     ]
    }
   ],
   "source": [
    "env_info = env.env.reset(train_mode=False)[brain_name] # reset the environment\n",
    "state = env_info.vector_observations[0]            # get the current state\n",
    "score = 0                                          # initialize the score\n",
    "while True:\n",
    "    action = np.random.randint(action_size)        # select an action\n",
    "    env_info = env.env.step(action)[brain_name]        # send the action to the environment\n",
    "    next_state = env_info.vector_observations[0]   # get the next state\n",
    "    reward = env_info.rewards[0]                   # get the reward\n",
    "    done = env_info.local_done[0]                  # see if episode has finished\n",
    "    score += reward                                # update the score\n",
    "    state = next_state                             # roll over the state to next time step\n",
    "    if done:                                       # exit loop if episode finished\n",
    "        break\n",
    "    \n",
    "print(\"Score: {}\".format(score))"
   ]
  },
  {
   "cell_type": "markdown",
   "metadata": {},
   "source": [
    "## 2. Train Deep Q-Learning Agent\n",
    "\n",
    "Now it's time to train agent to solve the environment!  When training the environment.  We implemented Deep Q-learning with experience replay algorithm described in the Deep Mind paper:\n",
    "https://storage.googleapis.com/deepmind-media/dqn/DQNNaturePaper.pdf\n",
    "The difference from the original work is that their agent was trained from the raw screen input so Convolutional Q Network was used for training. We implemented slightly simplified version which requires state vector shape = (37) instead of raw pixel data so we used Fully-Connected Q-Network instead."
   ]
  },
  {
   "cell_type": "markdown",
   "metadata": {},
   "source": [
    "### 2.1. Import PyTorch\n",
    "\n",
    "First we need to import PyTorch library so we can start building Deep Q network to make agent learn from expirience. Here is a good instructions how PyTorch should be installed: https://github.com/williamFalcon/pytorch-gpu-install"
   ]
  },
  {
   "cell_type": "code",
   "execution_count": 9,
   "metadata": {},
   "outputs": [],
   "source": [
    "import torch\n",
    "import torch.nn as nn\n",
    "import torch.nn.functional as F\n",
    "import torch.optim as optim"
   ]
  },
  {
   "cell_type": "markdown",
   "metadata": {},
   "source": [
    "### 2.2. Setup Q-Network Archtiectures\n",
    "\n",
    "We ended up with simple three layers Fully connected network with Relu as activation functions. Dropout regularization is also used to improve Network generalization. Second network (DuelingQNetwork) is network which setup to cover Dueling DQN described in the paper: https://arxiv.org/abs/1511.06581"
   ]
  },
  {
   "cell_type": "code",
   "execution_count": 10,
   "metadata": {},
   "outputs": [],
   "source": [
    "class QNetwork(nn.Module):\n",
    "    \"\"\"Actor (Policy) Model.\"\"\"\n",
    "\n",
    "    def __init__(self, state_size, action_size, seed):\n",
    "        \"\"\"Initialize parameters and build model.\n",
    "        Params\n",
    "        ======\n",
    "            state_size (int): Dimension of each state\n",
    "            action_size (int): Dimension of each action\n",
    "            seed (int): Random seed\n",
    "        \"\"\"\n",
    "        super(QNetwork, self).__init__()\n",
    "        self.seed = torch.manual_seed(seed)\n",
    "        self.action_size = action_size\n",
    "        self.state_size =  state_size\n",
    "        \n",
    "        self.fc1 = nn.Linear(self.state_size, 128)\n",
    "        self.fc2 = nn.Linear(128, 64)\n",
    "        self.fc3 = nn.Linear(64, self.action_size)\n",
    "        \n",
    "    def forward(self, state):\n",
    "        \"\"\"Build a network that maps state -> action values.\"\"\"\n",
    "        # final output\n",
    "        x = F.relu(self.fc1(state))\n",
    "        x = F.dropout(x, p=0.2, training=self.training)\n",
    "        x = F.relu(self.fc2(x))\n",
    "        x = F.dropout(x, p=0.2, training=self.training)\n",
    "        x = self.fc3(x)     \n",
    "        \n",
    "        return x\n",
    "    \n",
    "    \n",
    "class DuelingQNetwork(nn.Module):\n",
    "    \"\"\"Actor (Policy) Model.\"\"\"\n",
    "\n",
    "    def __init__(self, state_size, action_size, seed):\n",
    "        \"\"\"Initialize parameters and build model.\n",
    "        Params\n",
    "        ======\n",
    "            state_size (int): Dimension of each state\n",
    "            action_size (int): Dimension of each action\n",
    "            seed (int): Random seed\n",
    "        \"\"\"\n",
    "        super(DuelingQNetwork, self).__init__()\n",
    "        self.seed = torch.manual_seed(seed)\n",
    "        self.action_size = action_size\n",
    "        self.state_size =  state_size\n",
    "        \n",
    "        self.fc1 = nn.Linear(self.state_size, 128)\n",
    "        \n",
    "        self.fc2value = nn.Linear(128, 64)\n",
    "        self.fc3value = nn.Linear(64, 1)\n",
    "        \n",
    "        self.fc2action = nn.Linear(128, 64)\n",
    "        self.fc3action = nn.Linear(64, self.action_size)\n",
    "        \n",
    "    def forward(self, state):\n",
    "        # featrues layer\n",
    "        features = F.relu(self.fc1(state))\n",
    "        \n",
    "        # value layer\n",
    "        values = F.relu(self.fc2value(features))\n",
    "        values = F.dropout(values, p=0.2, training=self.training)\n",
    "        values = self.fc3value(values)     \n",
    "        \n",
    "        # actions layer\n",
    "        actions = F.relu(self.fc2action(features))\n",
    "        actions = F.dropout(actions, p=0.2, training=self.training)\n",
    "        actions = self.fc3action(actions)     \n",
    "        \n",
    "        # compined result\n",
    "        return values + actions - actions.mean()"
   ]
  },
  {
   "cell_type": "markdown",
   "metadata": {},
   "source": [
    "### 2.3. Create Expirience Replay Buffer\n",
    "\n",
    "We need to define class with will be used to store experience tuples."
   ]
  },
  {
   "cell_type": "code",
   "execution_count": 11,
   "metadata": {},
   "outputs": [],
   "source": [
    "class ReplayBuffer:\n",
    "    \"\"\"Fixed-size buffer to store experience tuples.\"\"\"\n",
    "\n",
    "    def __init__(self, action_size, buffer_size, batch_size, seed):\n",
    "        \"\"\"Initialize a ReplayBuffer object.\n",
    "\n",
    "        Params\n",
    "        ======\n",
    "            action_size (int): dimension of each action\n",
    "            buffer_size (int): maximum size of buffer\n",
    "            batch_size (int): size of each training batch\n",
    "            seed (int): random seed\n",
    "        \"\"\"\n",
    "        self.action_size = action_size\n",
    "        self.memory = deque(maxlen=buffer_size)  \n",
    "        self.batch_size = batch_size\n",
    "        self.experience = namedtuple(\"Experience\", field_names=[\"state\", \"action\", \"reward\", \"next_state\", \"done\"])\n",
    "        self.seed = random.seed(seed)\n",
    "    \n",
    "    def add(self, state, action, reward, next_state, done):\n",
    "        \"\"\"Add a new experience to memory.\"\"\"\n",
    "        e = self.experience(state, action, reward, next_state, done)\n",
    "        self.memory.append(e)\n",
    "    \n",
    "    def sample(self):\n",
    "        \"\"\"Randomly sample a batch of experiences from memory.\"\"\"\n",
    "        experiences = random.sample(self.memory, k=self.batch_size)\n",
    "\n",
    "        states = torch.from_numpy(np.vstack([e.state for e in experiences if e is not None])).float().to(device)\n",
    "        actions = torch.from_numpy(np.vstack([e.action for e in experiences if e is not None])).long().to(device)\n",
    "        rewards = torch.from_numpy(np.vstack([e.reward for e in experiences if e is not None])).float().to(device)\n",
    "        next_states = torch.from_numpy(np.vstack([e.next_state for e in experiences if e is not None])).float().to(device)\n",
    "        dones = torch.from_numpy(np.vstack([e.done for e in experiences if e is not None]).astype(np.uint8)).float().to(device)\n",
    "  \n",
    "        return (states, actions, rewards, next_states, dones)\n",
    "\n",
    "    def __len__(self):\n",
    "        \"\"\"Return the current size of internal memory.\"\"\"\n",
    "        return len(self.memory)"
   ]
  },
  {
   "cell_type": "markdown",
   "metadata": {},
   "source": [
    "### 2.4. Create base  agent\n",
    "\n",
    "Create base agent class which will be used for additional modifications like Double DQN and Dueling DQN "
   ]
  },
  {
   "cell_type": "code",
   "execution_count": 12,
   "metadata": {},
   "outputs": [],
   "source": [
    "from collections import namedtuple, deque\n",
    "import random\n",
    "\n",
    "# hyper params sample\n",
    "hyperparams = { \"BUFFER_SIZE\" : int(1e5),  # replay buffer size\n",
    "                \"BATCH_SIZE\" : 64,         # minibatch size\n",
    "                \"GAMMA\" : 0.99,            # discount factor\n",
    "                \"TAU\" : 1e-3,              # for soft update of target parameters\n",
    "                \"LR\" : 5e-4,               # learning rate \n",
    "                \"UPDATE_EVERY\" : 4,        # how often to update the network\n",
    "                \"UPDATE_TARGET_EVERY\" : 4  # how often to update target network \n",
    "              }\n",
    "\n",
    "class BaseAgent():\n",
    "    \"\"\"Interacts with and learns from the environment.\"\"\"\n",
    "\n",
    "    def __init__(self, device, hyperparams, qNetwork, state_size, action_size, seed):\n",
    "        \"\"\"Initialize an Agent object.\n",
    "        \n",
    "        Params\n",
    "        ======\n",
    "            state_size (int): dimension of each state\n",
    "            action_size (int): dimension of each action\n",
    "            seed (int): random seed\n",
    "        \"\"\"\n",
    "        self.hyperparams = hyperparams\n",
    "        \n",
    "        self.device = device\n",
    "           \n",
    "        self.BUFFER_SIZE = hyperparams[\"BUFFER_SIZE\"]\n",
    "        self.BATCH_SIZE = hyperparams[\"BATCH_SIZE\"]\n",
    "        self.GAMMA = hyperparams[\"GAMMA\"]\n",
    "        self.TAU = hyperparams[\"TAU\"]\n",
    "        self.LR = hyperparams[\"LR\"]\n",
    "        \n",
    "        self.UPDATE_EVERY = hyperparams[\"UPDATE_EVERY\"]\n",
    "        self.UPDATE_TARGET_EVERY = hyperparams[\"UPDATE_TARGET_EVERY\"]\n",
    "        \n",
    "        self.state_size = state_size\n",
    "        \n",
    "        self.action_size = action_size\n",
    "        self.seed = random.seed(seed)\n",
    "\n",
    "        # Q-Network\n",
    "        # Deep Q-Learning Algorithm: Initialize parameters W of Q network\n",
    "        self.qnetwork_local = qNetwork(state_size, action_size, seed).to(self.device)\n",
    "        \n",
    "        # Deep Q-Learning Algorithm: Initialize parameters W-\n",
    "        self.qnetwork_target = qNetwork(state_size, action_size, seed).to(self.device)\n",
    "        self.qnetwork_target.eval()\n",
    "        \n",
    "        self.optimizer = optim.Adam(self.qnetwork_local.parameters(), lr=self.LR)\n",
    "\n",
    "        # Deep Q-Learning Algorithm: Initialize replay memory D with N = BUFFER_SIZE\n",
    "        self.memory = ReplayBuffer(action_size, self.BUFFER_SIZE, self.BATCH_SIZE, seed)\n",
    "        # Initialize time step (for updating every UPDATE_EVERY steps)\n",
    "        self.t_step = 0\n",
    "        self.w_step = 0\n",
    "            \n",
    "    def step(self, state, action, reward, next_state, done):\n",
    "        # Deep Q-Learning algorithm: Sample section\n",
    "        # Deep Q-Learning algorithm: Save experience tuple (S, A, R, S~) in replay memory D\n",
    "        self.memory.add(state, action, reward, next_state, done)\n",
    "        \n",
    "        # Deep Q-Learning algorithm: Learn section\n",
    "        # Learn every UPDATE_EVERY time steps.\n",
    "        self.t_step = (self.t_step + 1) % self.UPDATE_EVERY\n",
    "        if self.t_step == 0:\n",
    "            # If enough samples are available in memory, get random subset and learn\n",
    "            if len(self.memory) > self.BATCH_SIZE:\n",
    "                \n",
    "                # Deep Q-Learning algorithm: Obtain random minibatch of tuples\n",
    "                # (S, A, R, S~) from replay memory D\n",
    "                experiences = self.memory.sample()\n",
    "                self.learn(experiences, self.GAMMA)\n",
    "\n",
    "        self.w_step = (self.w_step + 1) % self.UPDATE_TARGET_EVERY\n",
    "        \n",
    "        if self.w_step == 0:   \n",
    "            self.soft_update(self.qnetwork_local, self.qnetwork_target, self.TAU)                     \n",
    "    \n",
    "    def act(self, state, eps=0.):\n",
    "        \"\"\"Returns actions for given state as per current policy.\n",
    "        \n",
    "        Params\n",
    "        ======\n",
    "            state (array_like): current state\n",
    "            eps (float): epsilon, for epsilon-greedy action selection\n",
    "        \"\"\"\n",
    "        state = torch.from_numpy(state).float().unsqueeze(0).to(self.device)\n",
    "        self.qnetwork_local.eval()\n",
    "        with torch.no_grad():\n",
    "            action_values = self.qnetwork_local(state)\n",
    "        self.qnetwork_local.train()\n",
    "\n",
    "        # Epsilon-greedy action selection\n",
    "        if random.random() > eps:\n",
    "            return np.argmax(action_values.cpu().data.numpy())\n",
    "        else:\n",
    "            return random.choice(np.arange(self.action_size))\n",
    "\n",
    "    def learn(self, experiences, gamma):\n",
    "        \"\"\"Update value parameters using given batch of experience tuples.\n",
    "\n",
    "        Params\n",
    "        ======\n",
    "            experiences (Tuple[torch.Variable]): tuple of (s, a, r, s', done) tuples \n",
    "            gamma (float): discount factor\n",
    "        \"\"\"        \n",
    "                                   \n",
    "    \n",
    "    def soft_update(self, local_model, target_model, tau):\n",
    "        \"\"\"Soft update model parameters.\n",
    "        θ_target = τ*θ_local + (1 - τ)*θ_target\n",
    "\n",
    "        Params\n",
    "        ======\n",
    "            local_model (PyTorch model): weights will be copied from\n",
    "            target_model (PyTorch model): weights will be copied to\n",
    "            tau (float): interpolation parameter \n",
    "        \"\"\"\n",
    "        for target_param, local_param in zip(target_model.parameters(), local_model.parameters()):\n",
    "            target_param.data.copy_(tau*local_param.data + (1.0-tau)*target_param.data)\n"
   ]
  },
  {
   "cell_type": "markdown",
   "metadata": {},
   "source": [
    "### 2.5. Create vanila DQN agent\n",
    "\n",
    "Create Simple DQN Agent described in: https://storage.googleapis.com/deepmind-media/dqn/DQNNaturePaper.pdf "
   ]
  },
  {
   "cell_type": "code",
   "execution_count": 13,
   "metadata": {},
   "outputs": [],
   "source": [
    "class DQNAgent(BaseAgent):\n",
    "    \"\"\"Simple DQN Agent described in: https://storage.googleapis.com/deepmind-media/dqn/DQNNaturePaper.pdf  \"\"\"\n",
    "    def __init__(self, device, hyperparams, qNetwork, state_size, action_size, seed):\n",
    "        super().__init__(device, hyperparams, qNetwork, state_size, action_size, seed)          \n",
    " \n",
    "    def learn(self, experiences, gamma):\n",
    "        \"\"\"Update value parameters using given batch of experience tuples.\n",
    "       Params\n",
    "        ======\n",
    "            experiences (Tuple[torch.Variable]): tuple of (s, a, r, s', done) tuples \n",
    "            gamma (float): discount factor\n",
    "        \"\"\"\n",
    "        \n",
    "        # Deep Q-Learning algorithm: Learn section\n",
    "      \n",
    "        # Deep Q-Learning algorithm: Obtain random minibatch of tuples\n",
    "        # (S[j], A[j], R[j], S[j+1]) from replay memory D\n",
    "        states, actions, rewards, next_states, dones = experiences\n",
    "        \n",
    "        # states shape = (batch_size, 8)  type = float\n",
    "        # actions shape = (batch_size, 1) type = int\n",
    "        # next states shape = (batch_size, 8) type = float \n",
    "        # rewards shape = (batch_size, 1)  type = float (0.0 or 1.0)\n",
    "        \n",
    "        # Deep Q-Learning algorithm: set target y[j]= r[j] + gamma * maxa(Q(s[j+1],a,W~)) \n",
    "        # y[j]= r[j] if episode terminates\n",
    "        with torch.no_grad():\n",
    "            \n",
    "            #get target Q values - using target network\n",
    "            target_values = self.qnetwork_target(next_states)\n",
    "            # target values shape = (batch_size, 4) \n",
    "            \n",
    "            # get maximum values\n",
    "            target_values = target_values.max(1)\n",
    "            \n",
    "            # now we have two tensors - first tensor is maximum values,  second one is maximum indexes (argmax)\n",
    "            # we interested in the first one\n",
    "            target_values = target_values[0]\n",
    "            \n",
    "            # target values shape = (batch size) \n",
    "            # reshaping to (batch_size, 1)\n",
    "            target_values = target_values.unsqueeze(1)\n",
    "            \n",
    "            # target values shapes = (batch_size, 1)\n",
    "            \n",
    "            # calculate target value\n",
    "            # y[j]= r[j] if episode terminates (done = 1)\n",
    "            y = rewards + gamma * target_values * (1.0 - dones)\n",
    "            \n",
    "            # y.shape = (batch_size, 1)    \n",
    "        \n",
    "        ## Deep Q-Learning algorithm: updated dW = a(y - Q(s,a,w) * Grad-w(Q(s,a,w)\n",
    "        \n",
    "        # Get expected Q values from local model\n",
    "        Q_expected = self.qnetwork_local(states)\n",
    "        \n",
    "        # Q_expected shape = (batch size, 4)\n",
    "        \n",
    "        ## gether only values which are related to the specific actions we are interested in\n",
    "        Q_expected_for_actions = Q_expected.gather(1, actions)\n",
    "        \n",
    "        # Q_expected_for_actions shape = (batch size, 1)\n",
    "        \n",
    "        #Perform a gradient descent step on MSE(y - Q_expected)\n",
    "        loss = F.mse_loss(Q_expected_for_actions, y)\n",
    "        \n",
    "        # backpropagation\n",
    "        self.optimizer.zero_grad()\n",
    "        loss.backward()\n",
    "        self.optimizer.step()       "
   ]
  },
  {
   "cell_type": "markdown",
   "metadata": {},
   "source": [
    "### 2.6. Create Double DQN agent\n",
    "\n",
    "Create Double DQN Agent described in the: https://arxiv.org/abs/1509.06461"
   ]
  },
  {
   "cell_type": "code",
   "execution_count": 54,
   "metadata": {},
   "outputs": [],
   "source": [
    "class DDQNAgent(BaseAgent):\n",
    "    \"\"\"Double DQN Agent described in the: https://arxiv.org/abs/1509.06461 \"\"\"\n",
    "    def __init__(self, device, hyperparams, qNetwork, state_size, action_size, seed):\n",
    "        super().__init__(device, hyperparams, qNetwork, state_size, action_size, seed)            \n",
    "   \n",
    "    \n",
    "    def learn(self, experiences, gamma):\n",
    "        \"\"\"Update value parameters using given batch of experience tuples.\n",
    "\n",
    "        Params\n",
    "        ======\n",
    "            experiences (Tuple[torch.Variable]): tuple of (s, a, r, s', done) tuples \n",
    "            gamma (float): discount factor\n",
    "        \"\"\"\n",
    "        \n",
    "        # Deep Q-Learning algorithm: Learn section\n",
    "      \n",
    "        # Deep Q-Learning algorithm: Obtain random minibatch of tuples\n",
    "        # (S[j], A[j], R[j], S[j+1]) from replay memory D\n",
    "        states, actions, rewards, next_states, dones = experiences\n",
    "                        \n",
    "        # We have dropouts - need to get rid of them\n",
    "        self.qnetwork_local.eval()\n",
    "        \n",
    "        with torch.no_grad():            \n",
    "            #get target Q values - using local network\n",
    "            double_target_values = self.qnetwork_local(next_states)\n",
    "           \n",
    "            #target values shape = (batch_size, 4) \n",
    "            \n",
    "            #get maximum values\n",
    "            double_target_values = double_target_values.max(1)\n",
    "            \n",
    "            # now we have two tensors - first tensor is maximum values the second one is maximum indexes (argmax)\n",
    "            # we interested in second one for DDQN\n",
    "            double_target_values_args = double_target_values[1].unsqueeze(1)\n",
    "            \n",
    "            # get values from target network corresponding to actions for local network\n",
    "            target_values = self.qnetwork_target(next_states)\n",
    "            target_values = target_values.gather(1, double_target_values_args).squeeze(1)\n",
    "            target_values = target_values.unsqueeze(1)\n",
    "          \n",
    "            # target values shapes = (batch_size, 1)\n",
    "           \n",
    "            # calculate target values\n",
    "            # y[j]= r[j] if episode terminates (done = 1)\n",
    "            y = rewards + gamma * target_values * (1.0 - dones)\n",
    "                    \n",
    "        self.qnetwork_local.train()\n",
    "        \n",
    "        ## Deep Q-Learning algorithm: updated dW = a(y - Q(s,a,w) * Grad-w(Q(s,a,w)\n",
    "        # Get expected Q values from local model\n",
    "        Q_expected = self.qnetwork_local(states)\n",
    "        # Q_expected shape = (batch size, 4)\n",
    "        \n",
    "        ## gether only values which are related to the specific actions we are interested in\n",
    "        Q_expected_for_actions = Q_expected.gather(1, actions)\n",
    "        # Q_expected shape = (batch size, 1)\n",
    "        \n",
    "        #Perform a gradient descent step on MSE(y - Q_expected)\n",
    "        loss = F.mse_loss(Q_expected_for_actions, y)\n",
    "        \n",
    "        # backpropagation\n",
    "        self.optimizer.zero_grad()\n",
    "        loss.backward()\n",
    "        self.optimizer.step() "
   ]
  },
  {
   "cell_type": "markdown",
   "metadata": {},
   "source": [
    "### 2.7. Setup training cycle"
   ]
  },
  {
   "cell_type": "code",
   "execution_count": 18,
   "metadata": {},
   "outputs": [],
   "source": [
    "def dqn(env, agent, n_episodes=100, max_t=1000, eps_start=1.0, eps_end=0.01, eps_decay=0.995, model_file = 'checkpoint.pth'):\n",
    "    \"\"\"Deep Q-Learning.\n",
    "    \n",
    "    Params\n",
    "    ======\n",
    "        n_episodes (int): maximum number of training episodes\n",
    "        max_t (int): maximum number of timesteps per episode\n",
    "        eps_start (float): starting value of epsilon, for epsilon-greedy action selection\n",
    "        eps_end (float): minimum value of epsilon\n",
    "        eps_decay (float): multiplicative factor (per episode) for decreasing epsilon\n",
    "    \"\"\"\n",
    "    scores = []                        # list containing scores from each episode\n",
    "    scores_window = deque(maxlen=100)  # last 100 scores\n",
    "    eps = eps_start                    # initialize epsilon\n",
    "    max_score = 0\n",
    "\n",
    "    #Deep Q-Learning algorithm: for the episode e <- 1 to M:\n",
    "    for i_episode in range(1, n_episodes+1):\n",
    "        \n",
    "        #Deep Q-Learning algorithm: observe initial state S:\n",
    "        state = env.reset(train_mode=True)\n",
    "        score = 0\n",
    "        \n",
    "        #Deep Q-Learning algorithm: for time step t <- 1 to T:\n",
    "        for t in range(max_t):\n",
    "            \n",
    "            # Deep Q-Learning algorithm: Sample Section\n",
    "            # Deep Q-Learning algorithm: Choose action from state S using policy:\n",
    "            # pi <- e-Greedy(Q~(S,A,w))\n",
    "            action = agent.act(state, eps)\n",
    "            \n",
    "            # Deep Q-Learning algorithm: Take an action and observe result\n",
    "            next_state, reward, done = env.step(action)\n",
    "            \n",
    "            # Deep Q-Learning algorithm: Finish Sample and full Learn section\n",
    "            agent.step(state, action, reward, next_state, done)\n",
    "            state = next_state\n",
    "            score += reward\n",
    "            if done:\n",
    "                break \n",
    "        \n",
    "        scores_window.append(score)       # save most recent score\n",
    "        scores.append(score)              # save most recent score\n",
    "        eps = max(eps_end, eps_decay * eps) # decrease epsilon\n",
    "        \n",
    "        print('\\rEpisode {}\\tAverage Score: {:.2f}'.format(i_episode, np.mean(scores_window)), end=\"\")\n",
    "        if i_episode % 100 == 0:\n",
    "            print('\\rEpisode {}\\tAverage Score: {:.2f}'.format(i_episode, np.mean(scores_window)))\n",
    "        \n",
    "            if np.mean(scores_window) > max_score:\n",
    "                print('Saving model... Episode: {} \\tAverage Score: {:.2f}\\n'.format(i_episode, np.mean(scores_window)))\n",
    "                torch.save(agent.qnetwork_local.state_dict(), model_file)\n",
    "                max_score = np.mean(scores_window)\n",
    "    return scores"
   ]
  },
  {
   "cell_type": "markdown",
   "metadata": {},
   "source": [
    "### 2.8. Set device and utility functions"
   ]
  },
  {
   "cell_type": "code",
   "execution_count": 52,
   "metadata": {},
   "outputs": [],
   "source": [
    "device = torch.device(\"cuda:0\" if torch.cuda.is_available() else \"cpu\")\n",
    "\n",
    "def plot_scores(scores):\n",
    "    fig = plt.figure()\n",
    "    ax = fig.add_subplot(111)\n",
    "    plt.plot(np.arange(len(scores)), scores)\n",
    "    plt.ylabel('Score')\n",
    "    plt.xlabel('Episode #')\n",
    "    plt.show()\n",
    "    \n",
    "def moving_average(data_set, periods=3):\n",
    "    weights = np.ones(periods) / periods\n",
    "    return np.convolve(data_set, weights, mode='valid')\n",
    "\n",
    "def plot_comparison(models,  labels, periods):\n",
    "    for m, l in zip(models, labels):\n",
    "        moving_m =  moving_average(m, periods)\n",
    "        plt.plot(m, label=l)\n",
    "        plt.legend(loc='lower right')\n",
    "\n",
    "        plt.title(\"DQN Models comparison\", fontsize=12, fontweight='bold')\n",
    "        plt.xlabel(\"Eisode #\")\n",
    "        plt.ylabel(\"Score\")\n",
    "        plt.show()"
   ]
  },
  {
   "cell_type": "markdown",
   "metadata": {},
   "source": [
    "### 2.9. Experiments\n",
    "\n",
    "#### DQN with learning and target network update each 4 steps for both"
   ]
  },
  {
   "cell_type": "code",
   "execution_count": 20,
   "metadata": {},
   "outputs": [
    {
     "name": "stdout",
     "output_type": "stream",
     "text": [
      "Episode 100\tAverage Score: 0.40\n",
      "Saving model... Episode: 100 \tAverage Score: 0.40\n",
      "\n",
      "Episode 200\tAverage Score: 3.32\n",
      "Saving model... Episode: 200 \tAverage Score: 3.32\n",
      "\n",
      "Episode 300\tAverage Score: 8.47\n",
      "Saving model... Episode: 300 \tAverage Score: 8.47\n",
      "\n",
      "Episode 400\tAverage Score: 10.77\n",
      "Saving model... Episode: 400 \tAverage Score: 10.77\n",
      "\n",
      "Episode 500\tAverage Score: 13.76\n",
      "Saving model... Episode: 500 \tAverage Score: 13.76\n",
      "\n",
      "Episode 600\tAverage Score: 15.82\n",
      "Saving model... Episode: 600 \tAverage Score: 15.82\n",
      "\n",
      "Episode 700\tAverage Score: 15.56\n",
      "Episode 800\tAverage Score: 15.90\n",
      "Saving model... Episode: 800 \tAverage Score: 15.90\n",
      "\n",
      "Episode 900\tAverage Score: 15.66\n",
      "Episode 1000\tAverage Score: 15.78\n"
     ]
    },
    {
     "ename": "NameError",
     "evalue": "name 'numpy' is not defined",
     "output_type": "error",
     "traceback": [
      "\u001b[1;31m---------------------------------------------------------------------------\u001b[0m",
      "\u001b[1;31mNameError\u001b[0m                                 Traceback (most recent call last)",
      "\u001b[1;32m<ipython-input-20-f1c0cd5b0bc1>\u001b[0m in \u001b[0;36m<module>\u001b[1;34m\u001b[0m\n\u001b[0;32m     13\u001b[0m \u001b[0mscores\u001b[0m \u001b[1;33m=\u001b[0m \u001b[0mdqn\u001b[0m\u001b[1;33m(\u001b[0m\u001b[0menv\u001b[0m\u001b[1;33m,\u001b[0m \u001b[0mdqn4Agent\u001b[0m\u001b[1;33m,\u001b[0m \u001b[0mn_episodes\u001b[0m\u001b[1;33m=\u001b[0m\u001b[1;36m1000\u001b[0m\u001b[1;33m,\u001b[0m \u001b[0mmodel_file\u001b[0m \u001b[1;33m=\u001b[0m \u001b[1;34m'DQN4checkpoint.pth'\u001b[0m\u001b[1;33m)\u001b[0m\u001b[1;33m\u001b[0m\u001b[1;33m\u001b[0m\u001b[0m\n\u001b[0;32m     14\u001b[0m \u001b[1;33m\u001b[0m\u001b[0m\n\u001b[1;32m---> 15\u001b[1;33m \u001b[0mnumpy\u001b[0m\u001b[1;33m.\u001b[0m\u001b[0msave\u001b[0m\u001b[1;33m(\u001b[0m\u001b[0mscores\u001b[0m\u001b[1;33m,\u001b[0m \u001b[1;34m\"DQN4Scores.npy\"\u001b[0m\u001b[1;33m)\u001b[0m\u001b[1;33m\u001b[0m\u001b[1;33m\u001b[0m\u001b[0m\n\u001b[0m\u001b[0;32m     16\u001b[0m \u001b[1;33m\u001b[0m\u001b[0m\n\u001b[0;32m     17\u001b[0m \u001b[0mPlotScores\u001b[0m\u001b[1;33m(\u001b[0m\u001b[0mscores\u001b[0m\u001b[1;33m)\u001b[0m\u001b[1;33m\u001b[0m\u001b[1;33m\u001b[0m\u001b[0m\n",
      "\u001b[1;31mNameError\u001b[0m: name 'numpy' is not defined"
     ]
    }
   ],
   "source": [
    "# simple agent with learning every 4 steps and updating target network with every 4 steps as well\n",
    "hyperparams = { \"BUFFER_SIZE\" : int(1e5),  # replay buffer size\n",
    "                \"BATCH_SIZE\" : 64,         # minibatch size\n",
    "                \"GAMMA\" : 0.99,             # discount factor\n",
    "                \"TAU\" : 1e-3,               # for soft update of target parameters\n",
    "                \"LR\" : 5e-4,                # learning rate \n",
    "                \"UPDATE_EVERY\" : 4,         # how often to update the network\n",
    "                \"UPDATE_TARGET_EVERY\" : 4  # how often to update target network \n",
    "              }\n",
    "\n",
    "dqn4Agent = DQNAgent(device, hyperparams, QNetwork, state_size=env.state_size, action_size=env.action_size, seed=0)\n",
    "\n",
    "scores = dqn(env, dqn4Agent, n_episodes=1000, model_file = 'DQN4checkpoint.pth')\n",
    "\n",
    "np.save(scores, \"DQN4Scores.npy\")\n",
    "\n",
    "plotScores(scores)"
   ]
  },
  {
   "cell_type": "code",
   "execution_count": 34,
   "metadata": {},
   "outputs": [
    {
     "data": {
      "image/png": "[encoded data removed]",
      "text/plain": [
       "<Figure size 432x288 with 1 Axes>"
      ]
     },
     "metadata": {
      "needs_background": "light"
     },
     "output_type": "display_data"
    }
   ],
   "source": [
    "np.save(\"DQN4Scores.npy\", scores)\n",
    "\n",
    "plotScores(scores)"
   ]
  },
  {
   "cell_type": "markdown",
   "metadata": {},
   "source": [
    "#### DQN with learning each 4 steps and target network update each 16 steps"
   ]
  },
  {
   "cell_type": "code",
   "execution_count": 25,
   "metadata": {},
   "outputs": [
    {
     "name": "stdout",
     "output_type": "stream",
     "text": [
      "Episode 100\tAverage Score: 0.09\n",
      "\n",
      "Saving model... Episode: 100 \tAverage Score: 0.09\n",
      "Episode 200\tAverage Score: 1.32\n",
      "\n",
      "Saving model... Episode: 200 \tAverage Score: 1.32\n",
      "Episode 300\tAverage Score: 5.97\n",
      "\n",
      "Saving model... Episode: 300 \tAverage Score: 5.97\n",
      "Episode 400\tAverage Score: 8.46\n",
      "\n",
      "Saving model... Episode: 400 \tAverage Score: 8.46\n",
      "Episode 500\tAverage Score: 9.26\n",
      "\n",
      "Saving model... Episode: 500 \tAverage Score: 9.26\n",
      "Episode 600\tAverage Score: 14.52\n",
      "\n",
      "Saving model... Episode: 600 \tAverage Score: 14.52\n",
      "Episode 700\tAverage Score: 15.47\n",
      "\n",
      "Saving model... Episode: 700 \tAverage Score: 15.47\n",
      "Episode 800\tAverage Score: 15.88\n",
      "\n",
      "Saving model... Episode: 800 \tAverage Score: 15.88\n",
      "Episode 900\tAverage Score: 15.72\n",
      "Episode 1000\tAverage Score: 15.54\n"
     ]
    },
    {
     "data": {
      "image/png": "[encoded data removed]",
      "text/plain": [
       "<Figure size 432x288 with 1 Axes>"
      ]
     },
     "metadata": {
      "needs_background": "light"
     },
     "output_type": "display_data"
    }
   ],
   "source": [
    "# simple agent with learning every 4 steps and updating target network with every 16 steps\n",
    "hyperparams = { \"BUFFER_SIZE\" : int(1e5),  # replay buffer size\n",
    "                \"BATCH_SIZE\" : 64,         # minibatch size\n",
    "                \"GAMMA\" : 0.99,             # discount factor\n",
    "                \"TAU\" : 1e-3,               # for soft update of target parameters\n",
    "                \"LR\" : 5e-4,                # learning rate \n",
    "                \"UPDATE_EVERY\" : 4,         # how often to update the network\n",
    "                \"UPDATE_TARGET_EVERY\" : 16  # how often to update target network \n",
    "              }\n",
    "\n",
    "agent = DQNAgent(device, hyperparams, state_size=env.state_size, action_size=env.action_size, seed=0)\n",
    "\n",
    "scoresDQN16 = dqn(env, agent, n_episodes=1000, model_file = 'DQN4checkpoint.pth')\n",
    "\n",
    "plotScores(scores)"
   ]
  },
  {
   "cell_type": "markdown",
   "metadata": {},
   "source": [
    "#### Double DQN with learning each 4 steps and target network update each 16 steps"
   ]
  },
  {
   "cell_type": "code",
   "execution_count": 56,
   "metadata": {},
   "outputs": [
    {
     "name": "stdout",
     "output_type": "stream",
     "text": [
      "Episode 100\tAverage Score: 0.00\n",
      "Episode 200\tAverage Score: 0.29\n",
      "Saving model... Episode: 200 \tAverage Score: 0.29\n",
      "\n",
      "Episode 300\tAverage Score: 0.77\n",
      "Saving model... Episode: 300 \tAverage Score: 0.77\n",
      "\n",
      "Episode 400\tAverage Score: 3.12\n",
      "Saving model... Episode: 400 \tAverage Score: 3.12\n",
      "\n",
      "Episode 500\tAverage Score: 3.78\n",
      "Saving model... Episode: 500 \tAverage Score: 3.78\n",
      "\n",
      "Episode 600\tAverage Score: 4.75\n",
      "Saving model... Episode: 600 \tAverage Score: 4.75\n",
      "\n",
      "Episode 700\tAverage Score: 4.59\n",
      "Episode 800\tAverage Score: 10.04\n",
      "Saving model... Episode: 800 \tAverage Score: 10.04\n",
      "\n",
      "Episode 900\tAverage Score: 12.79\n",
      "Saving model... Episode: 900 \tAverage Score: 12.79\n",
      "\n",
      "Episode 1000\tAverage Score: 14.56\n",
      "Saving model... Episode: 1000 \tAverage Score: 14.56\n",
      "\n",
      "Episode 1100\tAverage Score: 15.47\n",
      "Saving model... Episode: 1100 \tAverage Score: 15.47\n",
      "\n",
      "Episode 1200\tAverage Score: 14.22\n",
      "Episode 1300\tAverage Score: 16.14\n",
      "Saving model... Episode: 1300 \tAverage Score: 16.14\n",
      "\n",
      "Episode 1400\tAverage Score: 15.83\n",
      "Episode 1500\tAverage Score: 16.72\n",
      "Saving model... Episode: 1500 \tAverage Score: 16.72\n",
      "\n",
      "Episode 1600\tAverage Score: 16.34\n",
      "Episode 1700\tAverage Score: 16.37\n",
      "Episode 1800\tAverage Score: 14.86\n",
      "Episode 1900\tAverage Score: 16.08\n",
      "Episode 2000\tAverage Score: 16.07\n"
     ]
    },
    {
     "ename": "AttributeError",
     "evalue": "'list' object has no attribute 'write'",
     "output_type": "error",
     "traceback": [
      "\u001b[1;31m---------------------------------------------------------------------------\u001b[0m",
      "\u001b[1;31mAttributeError\u001b[0m                            Traceback (most recent call last)",
      "\u001b[1;32m<ipython-input-56-72395dbb34e9>\u001b[0m in \u001b[0;36m<module>\u001b[1;34m\u001b[0m\n\u001b[0;32m     14\u001b[0m \u001b[0mscoresDDQN16\u001b[0m \u001b[1;33m=\u001b[0m \u001b[0mdqn\u001b[0m\u001b[1;33m(\u001b[0m\u001b[0menv\u001b[0m\u001b[1;33m,\u001b[0m \u001b[0mddqn16agent\u001b[0m\u001b[1;33m,\u001b[0m \u001b[0mn_episodes\u001b[0m\u001b[1;33m=\u001b[0m\u001b[1;36m2000\u001b[0m\u001b[1;33m,\u001b[0m \u001b[0mmodel_file\u001b[0m \u001b[1;33m=\u001b[0m \u001b[1;34m'DDQN16checkpoint.pth'\u001b[0m\u001b[1;33m)\u001b[0m\u001b[1;33m\u001b[0m\u001b[1;33m\u001b[0m\u001b[0m\n\u001b[0;32m     15\u001b[0m \u001b[1;33m\u001b[0m\u001b[0m\n\u001b[1;32m---> 16\u001b[1;33m \u001b[0mnp\u001b[0m\u001b[1;33m.\u001b[0m\u001b[0msave\u001b[0m\u001b[1;33m(\u001b[0m\u001b[0mscoresDDQN16\u001b[0m \u001b[1;33m,\u001b[0m \u001b[1;34m\"DDQN16Scores.npy\"\u001b[0m\u001b[1;33m)\u001b[0m\u001b[1;33m\u001b[0m\u001b[1;33m\u001b[0m\u001b[0m\n\u001b[0m\u001b[0;32m     17\u001b[0m \u001b[1;33m\u001b[0m\u001b[0m\n\u001b[0;32m     18\u001b[0m \u001b[0mplot_scores\u001b[0m\u001b[1;33m(\u001b[0m\u001b[0mscoresDDQN16\u001b[0m\u001b[1;33m)\u001b[0m\u001b[1;33m\u001b[0m\u001b[1;33m\u001b[0m\u001b[0m\n",
      "\u001b[1;32m~\\AppData\\Local\\Continuum\\anaconda3\\envs\\drlnd\\lib\\site-packages\\numpy\\lib\\npyio.py\u001b[0m in \u001b[0;36msave\u001b[1;34m(file, arr, allow_pickle, fix_imports)\u001b[0m\n\u001b[0;32m    519\u001b[0m         \u001b[0marr\u001b[0m \u001b[1;33m=\u001b[0m \u001b[0mnp\u001b[0m\u001b[1;33m.\u001b[0m\u001b[0masanyarray\u001b[0m\u001b[1;33m(\u001b[0m\u001b[0marr\u001b[0m\u001b[1;33m)\u001b[0m\u001b[1;33m\u001b[0m\u001b[1;33m\u001b[0m\u001b[0m\n\u001b[0;32m    520\u001b[0m         format.write_array(fid, arr, allow_pickle=allow_pickle,\n\u001b[1;32m--> 521\u001b[1;33m                            pickle_kwargs=pickle_kwargs)\n\u001b[0m\u001b[0;32m    522\u001b[0m     \u001b[1;32mfinally\u001b[0m\u001b[1;33m:\u001b[0m\u001b[1;33m\u001b[0m\u001b[1;33m\u001b[0m\u001b[0m\n\u001b[0;32m    523\u001b[0m         \u001b[1;32mif\u001b[0m \u001b[0mown_fid\u001b[0m\u001b[1;33m:\u001b[0m\u001b[1;33m\u001b[0m\u001b[1;33m\u001b[0m\u001b[0m\n",
      "\u001b[1;32m~\\AppData\\Local\\Continuum\\anaconda3\\envs\\drlnd\\lib\\site-packages\\numpy\\lib\\format.py\u001b[0m in \u001b[0;36mwrite_array\u001b[1;34m(fp, array, version, allow_pickle, pickle_kwargs)\u001b[0m\n\u001b[0;32m    570\u001b[0m     \u001b[0m_check_version\u001b[0m\u001b[1;33m(\u001b[0m\u001b[0mversion\u001b[0m\u001b[1;33m)\u001b[0m\u001b[1;33m\u001b[0m\u001b[1;33m\u001b[0m\u001b[0m\n\u001b[0;32m    571\u001b[0m     used_ver = _write_array_header(fp, header_data_from_array_1_0(array),\n\u001b[1;32m--> 572\u001b[1;33m                                    version)\n\u001b[0m\u001b[0;32m    573\u001b[0m     \u001b[1;31m# this warning can be removed when 1.9 has aged enough\u001b[0m\u001b[1;33m\u001b[0m\u001b[1;33m\u001b[0m\u001b[1;33m\u001b[0m\u001b[0m\n\u001b[0;32m    574\u001b[0m     \u001b[1;32mif\u001b[0m \u001b[0mversion\u001b[0m \u001b[1;33m!=\u001b[0m \u001b[1;33m(\u001b[0m\u001b[1;36m2\u001b[0m\u001b[1;33m,\u001b[0m \u001b[1;36m0\u001b[0m\u001b[1;33m)\u001b[0m \u001b[1;32mand\u001b[0m \u001b[0mused_ver\u001b[0m \u001b[1;33m==\u001b[0m \u001b[1;33m(\u001b[0m\u001b[1;36m2\u001b[0m\u001b[1;33m,\u001b[0m \u001b[1;36m0\u001b[0m\u001b[1;33m)\u001b[0m\u001b[1;33m:\u001b[0m\u001b[1;33m\u001b[0m\u001b[1;33m\u001b[0m\u001b[0m\n",
      "\u001b[1;32m~\\AppData\\Local\\Continuum\\anaconda3\\envs\\drlnd\\lib\\site-packages\\numpy\\lib\\format.py\u001b[0m in \u001b[0;36m_write_array_header\u001b[1;34m(fp, d, version)\u001b[0m\n\u001b[0;32m    340\u001b[0m     \u001b[0mheader\u001b[0m \u001b[1;33m=\u001b[0m \u001b[0mheader\u001b[0m \u001b[1;33m+\u001b[0m \u001b[1;34mb' '\u001b[0m\u001b[1;33m*\u001b[0m\u001b[0mtopad\u001b[0m \u001b[1;33m+\u001b[0m \u001b[1;34mb'\\n'\u001b[0m\u001b[1;33m\u001b[0m\u001b[1;33m\u001b[0m\u001b[0m\n\u001b[0;32m    341\u001b[0m \u001b[1;33m\u001b[0m\u001b[0m\n\u001b[1;32m--> 342\u001b[1;33m     \u001b[0mfp\u001b[0m\u001b[1;33m.\u001b[0m\u001b[0mwrite\u001b[0m\u001b[1;33m(\u001b[0m\u001b[0mheader_prefix\u001b[0m\u001b[1;33m)\u001b[0m\u001b[1;33m\u001b[0m\u001b[1;33m\u001b[0m\u001b[0m\n\u001b[0m\u001b[0;32m    343\u001b[0m     \u001b[0mfp\u001b[0m\u001b[1;33m.\u001b[0m\u001b[0mwrite\u001b[0m\u001b[1;33m(\u001b[0m\u001b[0mheader\u001b[0m\u001b[1;33m)\u001b[0m\u001b[1;33m\u001b[0m\u001b[1;33m\u001b[0m\u001b[0m\n\u001b[0;32m    344\u001b[0m     \u001b[1;32mreturn\u001b[0m \u001b[0mversion\u001b[0m\u001b[1;33m\u001b[0m\u001b[1;33m\u001b[0m\u001b[0m\n",
      "\u001b[1;31mAttributeError\u001b[0m: 'list' object has no attribute 'write'"
     ]
    }
   ],
   "source": [
    "# DDQN agent with learning every 4 steps and updating target network with every 16 steps\n",
    "\n",
    "# simple agent with learning every 4 steps and updating target network with every 16 steps\n",
    "hyperparams = { \"BUFFER_SIZE\" : int(1e5),  # replay buffer size\n",
    "                \"BATCH_SIZE\" : 64,         # minibatch size\n",
    "                \"GAMMA\" : 0.99,             # discount factor\n",
    "                \"TAU\" : 1e-3,               # for soft update of target parameters\n",
    "                \"LR\" : 5e-4,                # learning rate \n",
    "                \"UPDATE_EVERY\" : 4,         # how often to update the network\n",
    "                \"UPDATE_TARGET_EVERY\" : 16  # how often to update target network \n",
    "              }\n",
    "\n",
    "ddqn16agent = DDQNAgent(device, hyperparams, QNetwork, state_size=env.state_size, action_size=env.action_size, seed=0)\n",
    "scoresDDQN16 = dqn(env, ddqn16agent, n_episodes=2000, model_file = 'DDQN16checkpoint.pth')\n",
    "\n",
    "np.save(\"DDQN16Scores.npy\", scoresDDQN16)\n",
    "\n",
    "plot_scores(scoresDDQN16)"
   ]
  },
  {
   "cell_type": "code",
   "execution_count": 31,
   "metadata": {},
   "outputs": [
    {
     "name": "stdout",
     "output_type": "stream",
     "text": [
      "Episode 100\tAverage Score: 0.40\n",
      "Saving model... Episode: 100 \tAverage Score: 0.40\n",
      "\n",
      "Episode 200\tAverage Score: 2.36\n",
      "Saving model... Episode: 200 \tAverage Score: 2.36\n",
      "\n",
      "Episode 300\tAverage Score: 6.52\n",
      "Saving model... Episode: 300 \tAverage Score: 6.52\n",
      "\n",
      "Episode 400\tAverage Score: 9.88\n",
      "Saving model... Episode: 400 \tAverage Score: 9.88\n",
      "\n",
      "Episode 500\tAverage Score: 14.64\n",
      "Saving model... Episode: 500 \tAverage Score: 14.64\n",
      "\n",
      "Episode 600\tAverage Score: 15.60\n",
      "Saving model... Episode: 600 \tAverage Score: 15.60\n",
      "\n",
      "Episode 700\tAverage Score: 14.36\n",
      "Episode 800\tAverage Score: 15.94\n",
      "Saving model... Episode: 800 \tAverage Score: 15.94\n",
      "\n",
      "Episode 900\tAverage Score: 15.51\n",
      "Episode 1000\tAverage Score: 15.24\n",
      "Episode 1100\tAverage Score: 16.08\n",
      "Saving model... Episode: 1100 \tAverage Score: 16.08\n",
      "\n",
      "Episode 1200\tAverage Score: 16.54\n",
      "Saving model... Episode: 1200 \tAverage Score: 16.54\n",
      "\n",
      "Episode 1300\tAverage Score: 16.82\n",
      "Saving model... Episode: 1300 \tAverage Score: 16.82\n",
      "\n",
      "Episode 1400\tAverage Score: 16.03\n",
      "Episode 1500\tAverage Score: 16.38\n",
      "Episode 1600\tAverage Score: 16.91\n",
      "Saving model... Episode: 1600 \tAverage Score: 16.91\n",
      "\n",
      "Episode 1700\tAverage Score: 15.82\n",
      "Episode 1800\tAverage Score: 16.00\n",
      "Episode 1900\tAverage Score: 15.31\n",
      "Episode 2000\tAverage Score: 15.53\n"
     ]
    },
    {
     "ename": "NameError",
     "evalue": "name 'plotScores' is not defined",
     "output_type": "error",
     "traceback": [
      "\u001b[1;31m---------------------------------------------------------------------------\u001b[0m",
      "\u001b[1;31mNameError\u001b[0m                                 Traceback (most recent call last)",
      "\u001b[1;32m<ipython-input-31-a68defcb1478>\u001b[0m in \u001b[0;36m<module>\u001b[1;34m\u001b[0m\n\u001b[0;32m     13\u001b[0m \u001b[0mscores\u001b[0m \u001b[1;33m=\u001b[0m \u001b[0mdqn\u001b[0m\u001b[1;33m(\u001b[0m\u001b[0menv\u001b[0m\u001b[1;33m,\u001b[0m \u001b[0magent\u001b[0m\u001b[1;33m,\u001b[0m \u001b[0mn_episodes\u001b[0m\u001b[1;33m=\u001b[0m\u001b[1;36m2000\u001b[0m\u001b[1;33m,\u001b[0m \u001b[0mmodel_file\u001b[0m \u001b[1;33m=\u001b[0m \u001b[1;34m'DQN4checkpoint.pth'\u001b[0m\u001b[1;33m)\u001b[0m\u001b[1;33m\u001b[0m\u001b[1;33m\u001b[0m\u001b[0m\n\u001b[0;32m     14\u001b[0m \u001b[1;33m\u001b[0m\u001b[0m\n\u001b[1;32m---> 15\u001b[1;33m \u001b[0mplotScores\u001b[0m\u001b[1;33m(\u001b[0m\u001b[0mscores\u001b[0m\u001b[1;33m)\u001b[0m\u001b[1;33m\u001b[0m\u001b[1;33m\u001b[0m\u001b[0m\n\u001b[0m",
      "\u001b[1;31mNameError\u001b[0m: name 'plotScores' is not defined"
     ]
    }
   ],
   "source": [
    "# simple agent with learning every 4 steps and updating target network with every 4 steps as well\n",
    "hyperparams = { \"BUFFER_SIZE\" : int(1e5),  # replay buffer size\n",
    "                \"BATCH_SIZE\" : 64,         # minibatch size\n",
    "                \"GAMMA\" : 0.999,             # discount factor\n",
    "                \"TAU\" : 1e-3,               # for soft update of target parameters\n",
    "                \"LR\" : 5e-4,                # learning rate \n",
    "                \"UPDATE_EVERY\" : 4,         # how often to update the network\n",
    "                \"UPDATE_TARGET_EVERY\" : 4  # how often to update target network \n",
    "              }\n",
    "\n",
    "agent = DQNAgent(device, hyperparams, DuelingQNetwork, state_size=env.state_size, action_size=env.action_size, seed=0)\n",
    "\n",
    "scores = dqn(env, agent, n_episodes=2000, model_file = 'DQN4checkpoint.pth')\n",
    "\n",
    "plotScores(scores)"
   ]
  },
  {
   "cell_type": "code",
   "execution_count": 57,
   "metadata": {},
   "outputs": [
    {
     "name": "stdout",
     "output_type": "stream",
     "text": [
      "Episode 100\tAverage Score: 0.06\n",
      "Saving model... Episode: 100 \tAverage Score: 0.06\n",
      "\n",
      "Episode 200\tAverage Score: 1.24\n",
      "Saving model... Episode: 200 \tAverage Score: 1.24\n",
      "\n",
      "Episode 300\tAverage Score: 3.71\n",
      "Saving model... Episode: 300 \tAverage Score: 3.71\n",
      "\n",
      "Episode 400\tAverage Score: 7.00\n",
      "Saving model... Episode: 400 \tAverage Score: 7.00\n",
      "\n",
      "Episode 500\tAverage Score: 8.40\n",
      "Saving model... Episode: 500 \tAverage Score: 8.40\n",
      "\n",
      "Episode 600\tAverage Score: 11.81\n",
      "Saving model... Episode: 600 \tAverage Score: 11.81\n",
      "\n",
      "Episode 700\tAverage Score: 13.92\n",
      "Saving model... Episode: 700 \tAverage Score: 13.92\n",
      "\n",
      "Episode 800\tAverage Score: 16.13\n",
      "Saving model... Episode: 800 \tAverage Score: 16.13\n",
      "\n",
      "Episode 900\tAverage Score: 15.67\n",
      "Episode 1000\tAverage Score: 14.88\n",
      "Episode 1100\tAverage Score: 15.17\n",
      "Episode 1200\tAverage Score: 14.14\n",
      "Episode 1300\tAverage Score: 15.24\n",
      "Episode 1400\tAverage Score: 16.80\n",
      "Saving model... Episode: 1400 \tAverage Score: 16.80\n",
      "\n",
      "Episode 1500\tAverage Score: 16.94\n",
      "Saving model... Episode: 1500 \tAverage Score: 16.94\n",
      "\n",
      "Episode 1600\tAverage Score: 17.19\n",
      "Saving model... Episode: 1600 \tAverage Score: 17.19\n",
      "\n",
      "Episode 1700\tAverage Score: 16.51\n",
      "Episode 1800\tAverage Score: 16.35\n",
      "Episode 1900\tAverage Score: 16.29\n",
      "Episode 2000\tAverage Score: 15.97\n"
     ]
    },
    {
     "data": {
      "image/png": "[encoded data removed]",
      "text/plain": [
       "<Figure size 432x288 with 1 Axes>"
      ]
     },
     "metadata": {
      "needs_background": "light"
     },
     "output_type": "display_data"
    }
   ],
   "source": [
    "# Dueling DDQN agent with learning every 4 steps and updating target network with every 16 steps\n",
    "\n",
    "# simple agent with learning every 4 steps and updating target network with every 16 steps\n",
    "hyperparams = { \"BUFFER_SIZE\" : int(1e5),  # replay buffer size\n",
    "                \"BATCH_SIZE\" : 64,         # minibatch size\n",
    "                \"GAMMA\" : 0.99,             # discount factor\n",
    "                \"TAU\" : 1e-3,               # for soft update of target parameters\n",
    "                \"LR\" : 5e-4,                # learning rate \n",
    "                \"UPDATE_EVERY\" : 4,         # how often to update the network\n",
    "                \"UPDATE_TARGET_EVERY\" : 7   # how often to update target network \n",
    "              }\n",
    "\n",
    "agent = DDQNAgent(device, hyperparams, DuelingQNetwork, state_size=env.state_size, action_size=env.action_size, seed=0)\n",
    "duelingScoresDDQN16 = dqn(env, agent, n_episodes=2000, model_file = 'DuelingDDQN16checkpoint.pth')\n",
    "\n",
    "np.save(\"DuelingDDQN16Scores.npy\", duelingScoresDDQN16)\n",
    "\n",
    "plot_scores(duelingScoresDDQN16)"
   ]
  },
  {
   "cell_type": "code",
   "execution_count": 25,
   "metadata": {},
   "outputs": [
    {
     "name": "stdout",
     "output_type": "stream",
     "text": [
      "[ 0. -1. -1.  0.  0.  0.  0.  0.  0.  0. -1.  2.  1.  0.  2.  1. -1. -4.\n",
      "  0. -1.  0. -1.  1. -1. -2. -2.  0.  1. -2. -1. -1.  0.  0.  1.  0. -1.\n",
      "  0. -1.  2.  0.  1. -1.  0. -1.  3.  0.  1.  0.  3. -1.  0.  0.  0.  0.\n",
      "  1.  4.  1.  1.  0.  2.  2. -2. -1. -1.  1.  1.  0.  1.  1.  2.  1. -2.\n",
      "  3.  1.  2.  2. -1.  2. -1.  0.  2.  5.  0.  1.  1. -1.  1.  4.  0.  1.\n",
      "  5.  4. -1.  1. -2.  1.  2.  1.  1. -1.  4.  1.  3.  2.  1.  2. -2.  3.\n",
      "  1.  1.  2.  5.  1.  5.  0.  3.  2.  3.  1.  1.  4. 10.  2.  1.  1.  3.\n",
      "  0.  1. -1.  0.  4.  1.  1.  1.  3. -1.  0.  3.  6.  0.  5. 11.  1.  7.\n",
      "  2.  2.  1.  2.  1.  3.  3.  6.  4.  3.  1.  0.  9.  2.  1.  1.  5.  2.\n",
      "  5.  4. 13.  0.  4.  0.  1. 12.  1.  4.  7.  3.  1.  3.  2.  3.  4.  4.\n",
      "  4. 11.  6.  9.  8.  7.  1.  1.  9.  1.  3.  2. 12.  4.  2.  6.  4.  3.\n",
      "  9.  9.  2.  6.  4.  1.  8.  5.  8. 13. 12.  9.  6.  9. 10.  9.  6.  7.\n",
      "  4.  6.  7.  5.  7.  8. 11.  4.  5.  4.  4.  5.  8.  2.  5.  6.  9.  7.\n",
      " 10.  7.  5.  8.  3.  9.  8. 13.  4.  7.  4. 13.  8. 11. 11.  7.  9.  7.\n",
      "  8. 10.  9.  5.  2.  7.  5.  9.  9. 12. 11. 14.  8.  5. 13. 13.  9. 11.\n",
      "  9.  9.  8.  6. 12.  7.  8. 10. 12. 11.  6. 15.  4. 13. 10. 15. 11. 15.\n",
      " 12. 16. 16. 10. 12. 11. 14. 12. 11.  6. 15.  5. 11. 14. 11.  7. 11. 11.\n",
      "  7.  5.  6.  8.  9. 18.  9.  8. 15.  8.  9.  3. 13.  7.  9.  9. 10. 12.\n",
      " 14. 14. 12. 10. 16.  8. 12. 16. 14. 10. 11.  7. 15.  6.  4. 15.  7.  9.\n",
      " 14. 14.  3.  9. 15.  8.  8. 15.  2. 10. 13. 16.  9.  5. 18.  5.  6. 17.\n",
      " 15. 16.  7. 13.  9. 12. 11.  5. 13.  3. 17. 14. 10.  9. 15.  7.  7. 18.\n",
      " 19. 17. 13.  7.  7.  7.  6. 16.  8. 12. 11. 10. 17. 13. 15. 13. 13. 11.\n",
      " 14.  9.  6. 15. 16. 15. 16. 10. 12. 17. 11. 13. 13. 14. 12. 13. 12. 13.\n",
      " 13. 10.  7.  6. 16. 15.  6. 15.  5.  6.  1. 17. 15. 19. 14. 17. 12. 19.\n",
      " 13. 16.  9. 16. 16. 14.  7. 10. 19. 14.  6. 15. 18. 13. 11.  8. 15. 18.\n",
      " 11. 21. 20. 12. 14. 13. 17. 10.  8. 15. 19. 16. 14. 15. 15. 19. 14.  9.\n",
      " 15. 15. 17. 11. 14. 13. 20. 10. 17. 13. 14. 20. 22. 15. 17. 18. 17. 15.\n",
      " 13. 15.  9.  7. 14. 14. 10. 23. 10. 19. 17. 10. 16. 16. 14. 21. 11. 17.\n",
      " 17. 19. 16. 10. 15. 16. 20. 12. 16. 20. 14. 10. 12. 12. 16. 23.  7. 17.\n",
      " 23. 17. 15. 20. 16. 19. 21. 16. 16. 15. 18. 16. 11. 12. 17. 13. 19. 17.\n",
      " 12. 16. 11. 19. 15. 15.  7. 19. 13. 15. 17. 12. 15. 15. 16. 16. 12. 18.\n",
      " 12. 18. 17. 16. 19. 11. 17. 19. 16. 16. 22. 17. 11. 18. 16. 13. 17. 14.\n",
      " 25. 16. 21. 14. 17. 12. 15. 18. 10. 18. 13. 12. 13. 18. 17. 16. 17. 15.\n",
      " 14. 17. 17. 18. 22. 19. 14. 17. 15. 16. 17. 11. 17. 17. 17. 20. 16. 15.\n",
      " 15. 10. 11. 19. 23. 18. 15. 19. 17. 12. 15. 11. 17. 24. 14. 17. 16. 12.\n",
      " 16. 15. 23. 17. 18. 19. 22. 21. 13. 13. 10. 16. 20. 15. 13.  9. 15. 15.\n",
      " 15. 17. 17. 13. 17. 19. 13. 19. 11. 16. 17. 14. 13. 19. 21. 14. 19. 12.\n",
      " 15.  9. 19. 13. 14. 13. 14. 17. 19. 20. 16. 10. 18. 14. 20. 17. 13. 17.\n",
      " 19. 13. 18. 15. 17. 12. 15. 11. 22. 19. 12.  9.  4. 19. 12.  8. 17. 15.\n",
      " 14. 17. 16. 18. 10. 18. 18. 17. 16. 18. 14. 15. 14. 22. 19. 12. 16. 19.\n",
      " 17. 20. 13. 12. 13. 14. 15. 10. 17. 15. 18.  5. 18. 16. 18. 17. 14. 16.\n",
      "  4.  5. 21. 17. 12. 14. 11. 15. 18. 11. 19. 14. 17. 20. 17. 17. 17. 16.\n",
      " 15. 19. 19. 15. 19. 15. 16. 20. 21. 14. 18. 16. 18. 22. 20. 21. 12. 16.\n",
      " 13. 17. 19. 18. 21. 19. 15. 14. 17.  1. 20. 14. 17. 20. 19. 21. 16. 18.\n",
      " 15. 16. 13. 17. 11. 17. 15. 13. 16. 11. 14. 21. 16. 21. 13. 15. 17. 20.\n",
      " 17.  8. 18. 16. 20. 17.  8. 17. 20. 13. 10. 14. 10. 22. 14. 19. 15. 19.\n",
      " 18. 14.  9. 10. 18. 16. 14. 23. 12.  9. 18. 16. 24. 12. 15. 17. 16. 18.\n",
      " 12. 10. 18. 10. 10. 14. 15. 22. 14. 14. 17. 21. 13. 16. 22. 19. 19. 17.\n",
      " 20. 13. 17. 14. 10. 13. 14. 12. 15. 19. 22. 18. 16. 19. 11. 12. 12. 23.\n",
      " 20. 19. 12. 10. 13. 16.  6. 15. 12. 15. 21. 20. 23. 16. 13. 18. 23. 11.\n",
      " 15.  8. 14. 19. 17. 19. 23. 16. 13. 13. 18. 14.  9. 16. 20. 17. 19. 11.\n",
      " 21. 14. 16. 10. 20. 14. 19. 17. 13. 10. 17. 24. 15. 14. 22. 17. 21. 19.\n",
      " 15. 20. 14. 16.  6. 14. 22. 18. 19.  9. 11. 18. 17. 17. 17. 22. 14. 19.\n",
      " 11. 16.  3. 17. 20. 19. 17. 21. 21. 16. 17. 21. 18. 17.  7. 13. 16. 16.\n",
      " 15. 16. 17. 14.  3.  3.  3. 19. 15. 22. 18. 21. 21. 14.  8. 17. 19. 12.\n",
      " 15. 12. 18. 19. 17. 20. 16. 14. 18. 14.]\n"
     ]
    }
   ],
   "source": [
    "scores = np.load(\"DQN4Scores.npy\")\n",
    "\n",
    "print(scores)"
   ]
  },
  {
   "cell_type": "code",
   "execution_count": 35,
   "metadata": {},
   "outputs": [
    {
     "data": {
      "image/png": "[encoded data removed]",
      "text/plain": [
       "<Figure size 432x288 with 1 Axes>"
      ]
     },
     "metadata": {
      "needs_background": "light"
     },
     "output_type": "display_data"
    }
   ],
   "source": [
    "\n",
    "\n",
    "scores = np.load(\"DQN4Scores.npy\")\n",
    "\n",
    "scores = moving_average(scores, 50)\n",
    "\n",
    "PlotScores(scores)"
   ]
  },
  {
   "cell_type": "code",
   "execution_count": 45,
   "metadata": {},
   "outputs": [],
   "source": []
  },
  {
   "cell_type": "code",
   "execution_count": 50,
   "metadata": {},
   "outputs": [
    {
     "data": {
      "image/png": "[encoded data removed]",
      "text/plain": [
       "<Figure size 432x288 with 1 Axes>"
      ]
     },
     "metadata": {
      "needs_background": "light"
     },
     "output_type": "display_data"
    }
   ],
   "source": [
    "plot_comparison([scores],  ['DQN'], 50)"
   ]
  },
  {
   "cell_type": "code",
   "execution_count": 61,
   "metadata": {},
   "outputs": [
    {
     "name": "stdout",
     "output_type": "stream",
     "text": [
      "Score: 19.0\n"
     ]
    }
   ],
   "source": [
    "agent = agent\n",
    "state = env.reset(False)\n",
    "score = 0                                       \n",
    "while True:\n",
    "    action = agent.act(state, 0)                \n",
    "    next_state, reward, done = env.step(action)            \n",
    "    score += reward                                \n",
    "    state = next_state                             \n",
    "    if done:                                     \n",
    "        break\n",
    "    \n",
    "print(\"Score: {}\".format(score))"
   ]
  },
  {
   "cell_type": "code",
   "execution_count": null,
   "metadata": {},
   "outputs": [],
   "source": [
    "env.close()"
   ]
  }
 ],
 "metadata": {
  "kernelspec": {
   "display_name": "drlnd",
   "language": "python",
   "name": "drlnd"
  },
  "language_info": {
   "codemirror_mode": {
    "name": "ipython",
    "version": 3
   },
   "file_extension": ".py",
   "mimetype": "text/x-python",
   "name": "python",
   "nbconvert_exporter": "python",
   "pygments_lexer": "ipython3",
   "version": "3.6.7"
  }
 },
 "nbformat": 4,
 "nbformat_minor": 2
}
